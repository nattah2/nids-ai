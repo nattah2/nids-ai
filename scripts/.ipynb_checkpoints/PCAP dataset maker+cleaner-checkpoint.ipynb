{
 "cells": [
  {
   "cell_type": "code",
   "execution_count": 15,
   "id": "aa9fc1bc-8bcb-4449-af20-b442b9d41f68",
   "metadata": {},
   "outputs": [],
   "source": [
    "import pyshark as pys\n",
    "import pandas as pd"
   ]
  },
  {
   "cell_type": "code",
   "execution_count": 16,
   "id": "81c0a9c7-52fd-46c3-9ccf-9cbbc8140bae",
   "metadata": {},
   "outputs": [],
   "source": [
    "# Needed for pyshark\n",
    "import nest_asyncio\n",
    "nest_asyncio.apply()"
   ]
  },
  {
   "cell_type": "code",
   "execution_count": 17,
   "id": "d3d8b870-feb7-4d75-bb4a-db22513782d9",
   "metadata": {},
   "outputs": [],
   "source": [
    "# PCAP file to DataFrame\n",
    "def getSrcIP(packet):\n",
    "    try:\n",
    "        return packet.ip.src\n",
    "    except:\n",
    "        return None\n",
    "def getDstIP(packet):\n",
    "    try:\n",
    "        return packet.ip.dst\n",
    "    except:\n",
    "        return None\n",
    "def getProtocol(packet):\n",
    "    try:\n",
    "        if (packet.transport_layer):\n",
    "            return packet.transport_layer\n",
    "        else:\n",
    "            return packet.highest_layer\n",
    "    except:\n",
    "        return None\n",
    "def getSrcPort(packet):\n",
    "    try:\n",
    "        if (packet.transport_layer):\n",
    "            return packet[packet.transport_layer].srcport\n",
    "        else:\n",
    "            return packet[packet.highest_layer].srcport\n",
    "    except:\n",
    "        return None\n",
    "def getDstPort(packet):\n",
    "    try:\n",
    "        if (packet.transport_layer):\n",
    "            return packet[packet.transport_layer].dstport\n",
    "        else:\n",
    "            return packet[packet.highest_layer].dstport\n",
    "    except:\n",
    "        return None\n",
    "def getLength(packet):\n",
    "    try:\n",
    "        return packet.ip.len\n",
    "    except:\n",
    "        return None\n",
    "def getTCPFlags(packet):\n",
    "    try:\n",
    "        if (packet.transport_layer):\n",
    "            return packet[packet.transport_layer].flags\n",
    "        else:\n",
    "            return packet[packet.highest_layer].flags\n",
    "    except:\n",
    "        return None\n",
    "def pcap2DF(capture, label):\n",
    "    table = []\n",
    "    for packet in capture:\n",
    "        row = [packet.sniff_timestamp, \n",
    "               getSrcIP(packet), \n",
    "               getDstIP(packet), \n",
    "               getProtocol(packet), \n",
    "               getSrcPort(packet), \n",
    "               getDstPort(packet), \n",
    "               getLength(packet),\n",
    "               getTCPFlags(packet),\n",
    "               label]\n",
    "        table.append(row)\n",
    "    return pd.DataFrame(table, columns=['Timestamp', 'Source IP', 'Destination IP', 'Protocol', 'Source Port', 'Destination Port', 'Packet Length', 'TCP Flags', 'Label'])"
   ]
  },
  {
   "cell_type": "code",
   "execution_count": 18,
   "id": "0170ee1f-6526-43b6-906b-9b3e37736538",
   "metadata": {},
   "outputs": [],
   "source": [
    "normal_capture = pys.FileCapture(\"B:\\\\Downloads\\\\wg0-capture-2.pcapng\")\n",
    "norm_df = pcap2DF(normal_capture, 0)"
   ]
  },
  {
   "cell_type": "code",
   "execution_count": 36,
   "id": "821170f1-f90f-4493-9460-b7e3123c12f6",
   "metadata": {},
   "outputs": [],
   "source": [
    "attack_capture = pys.FileCapture(\"B:\\\\Downloads\\\\test2.pcap\")\n",
    "flood_df = pcap2DF(attack_capture, 1)"
   ]
  },
  {
   "cell_type": "code",
   "execution_count": 37,
   "id": "f6832018-7a40-406d-a859-72936f49efca",
   "metadata": {},
   "outputs": [],
   "source": [
    "attack2_capture = pys.FileCapture(\"B:\\\\Downloads\\\\port scan.pcapng\")\n",
    "scan_df = pcap2DF(attack2_capture, 2)"
   ]
  },
  {
   "cell_type": "code",
   "execution_count": 38,
   "id": "5961c65f-1be8-464e-b5cd-2f83c02aed70",
   "metadata": {},
   "outputs": [],
   "source": [
    "# Backups made for debugging\n",
    "df_archive_normal = norm_df.copy()\n",
    "df_archive_flood = flood_df.copy()\n",
    "df_archive_scan = scan_df.copy()"
   ]
  },
  {
   "cell_type": "code",
   "execution_count": 39,
   "id": "b81e548e-89e3-42b9-ac95-3d287b49dae0",
   "metadata": {},
   "outputs": [],
   "source": [
    "# DataFrame modifiers\n",
    "def normalizeTime(in_df, start_point = 0):\n",
    "    df = in_df.copy()\n",
    "    timetable = []\n",
    "    start_time = float(df['Timestamp'][0])\n",
    "    \n",
    "    for packet in df.itertuples():\n",
    "        time_diff = float(packet[1]) - start_time\n",
    "        timetable.append(start_point + time_diff)\n",
    "    \n",
    "    df['Timestamp'] = timetable\n",
    "    return df\n",
    "def noIP(in_df):\n",
    "    df = in_df.copy()\n",
    "    #  Network IDs replace IPs in dataset\n",
    "    known_machines = {}\n",
    "    \n",
    "    i = 0\n",
    "    for packet in df.itertuples():\n",
    "        src = packet[2]\n",
    "        dst = packet[3]\n",
    "        \n",
    "        if (not src in known_machines):\n",
    "            known_machines[src] = i\n",
    "            i += 1\n",
    "        elif (not dst in known_machines):\n",
    "            known_machines[dst] = i\n",
    "            i += 1\n",
    "            \n",
    "    # Replace Source IP with Network ID\n",
    "    new_src = []\n",
    "    for src in df['Source IP']:\n",
    "        new_src.append(known_machines[src])\n",
    "    df['Source IP'] = new_src\n",
    "    \n",
    "    # Replace Destination IP with Network ID\n",
    "    new_dst = []\n",
    "    for dst in df['Destination IP']:\n",
    "        new_dst.append(known_machines[dst])\n",
    "    df['Destination IP'] = new_dst\n",
    "    return df\n",
    "def applyDFModifiers(in_df, start_point = 0):\n",
    "    df = in_df.copy()\n",
    "    return noIP(normalizeTime(df, start_point))"
   ]
  },
  {
   "cell_type": "code",
   "execution_count": 40,
   "id": "8bbbe2a8-d3d8-4f3d-b2df-9d61e0848acb",
   "metadata": {},
   "outputs": [],
   "source": [
    "norm_df = applyDFModifiers(norm_df)\n",
    "# Flood injected at 1000s\n",
    "flood_df = applyDFModifiers(flood_df, norm_df['Timestamp'][37005])\n",
    "# Scan injected at 500s\n",
    "scan_df = applyDFModifiers(scan_df, norm_df['Timestamp'][15523])"
   ]
  },
  {
   "cell_type": "code",
   "execution_count": 41,
   "id": "11ff85af-24c0-44c9-b68c-787a808617c1",
   "metadata": {},
   "outputs": [],
   "source": [
    "mix_df = pd.concat([norm_df, flood_df, scan_df])"
   ]
  },
  {
   "cell_type": "code",
   "execution_count": 43,
   "id": "b5c8cd80-e6d7-4074-96b1-0a9a10181532",
   "metadata": {},
   "outputs": [],
   "source": [
    "mix_df = mix_df.sort_values(by=['Timestamp'])"
   ]
  },
  {
   "cell_type": "code",
   "execution_count": 45,
   "id": "8f9e7c85-e285-492d-a92a-ea3d8bd24517",
   "metadata": {},
   "outputs": [],
   "source": [
    "# Backup made for debugging\n",
    "df_archive_mix = mix_df.copy()"
   ]
  },
  {
   "cell_type": "code",
   "execution_count": 87,
   "id": "71fc94e6-cc7e-4552-b9df-a7266df4c818",
   "metadata": {},
   "outputs": [
    {
     "data": {
      "text/plain": [
       "Protocol\n",
       "TCP       179529\n",
       "UDP        20306\n",
       "ICMP         643\n",
       "IGMP         118\n",
       "ARP           10\n",
       "ICMPV6        10\n",
       "Name: count, dtype: int64"
      ]
     },
     "execution_count": 87,
     "metadata": {},
     "output_type": "execute_result"
    }
   ],
   "source": [
    "df_archive_mix['Protocol'].value_counts()"
   ]
  },
  {
   "cell_type": "code",
   "execution_count": 47,
   "id": "64389348-747c-46d0-909b-d04777ea9e91",
   "metadata": {},
   "outputs": [
    {
     "name": "stdout",
     "output_type": "stream",
     "text": [
      "<class 'pandas.core.frame.DataFrame'>\n",
      "Index: 200616 entries, 0 to 95461\n",
      "Data columns (total 9 columns):\n",
      " #   Column            Non-Null Count   Dtype  \n",
      "---  ------            --------------   -----  \n",
      " 0   Timestamp         200616 non-null  float64\n",
      " 1   Source IP         200616 non-null  int64  \n",
      " 2   Destination IP    200616 non-null  int64  \n",
      " 3   Protocol          200616 non-null  object \n",
      " 4   Source Port       199835 non-null  object \n",
      " 5   Destination Port  199835 non-null  object \n",
      " 6   Packet Length     200446 non-null  object \n",
      " 7   TCP Flags         179529 non-null  object \n",
      " 8   Label             200616 non-null  int64  \n",
      "dtypes: float64(1), int64(3), object(5)\n",
      "memory usage: 15.3+ MB\n"
     ]
    }
   ],
   "source": [
    "# Start of cleaning\n",
    "mix_df.info()"
   ]
  },
  {
   "cell_type": "code",
   "execution_count": 55,
   "id": "42adac76-33d0-4d65-b2f4-770a33912cd5",
   "metadata": {},
   "outputs": [],
   "source": [
    "# Protocol: obj -> int\n",
    "new_col = []\n",
    "# Numbers retrieved from IANA standards\n",
    "for proto in mix_df['Protocol'].values:\n",
    "    if (proto == 'TCP'):\n",
    "        new_col.append(6)\n",
    "    elif (proto == 'UDP' or proto == 'MDNS'):\n",
    "        new_col.append(17)\n",
    "    elif (proto == 'ICMP'):\n",
    "        new_col.append(1)\n",
    "    elif (proto == 'IGMP'):\n",
    "        new_col.append(2)\n",
    "    elif (proto == 'ICMPV6'):\n",
    "        new_col.append(58)\n",
    "    else:\n",
    "        new_col.append(0)\n",
    "mix_df['Protocol'] = new_col"
   ]
  },
  {
   "cell_type": "code",
   "execution_count": 56,
   "id": "21df4a67-a062-4d19-83fa-421befc14b60",
   "metadata": {},
   "outputs": [
    {
     "name": "stdout",
     "output_type": "stream",
     "text": [
      "<class 'pandas.core.frame.DataFrame'>\n",
      "Index: 200616 entries, 0 to 95461\n",
      "Data columns (total 9 columns):\n",
      " #   Column            Non-Null Count   Dtype  \n",
      "---  ------            --------------   -----  \n",
      " 0   Timestamp         200616 non-null  float64\n",
      " 1   Source IP         200616 non-null  int64  \n",
      " 2   Destination IP    200616 non-null  int64  \n",
      " 3   Protocol          200616 non-null  int64  \n",
      " 4   Source Port       199835 non-null  object \n",
      " 5   Destination Port  199835 non-null  object \n",
      " 6   Packet Length     200446 non-null  object \n",
      " 7   TCP Flags         179529 non-null  object \n",
      " 8   Label             200616 non-null  int64  \n",
      "dtypes: float64(1), int64(4), object(4)\n",
      "memory usage: 15.3+ MB\n"
     ]
    }
   ],
   "source": [
    "mix_df.info()"
   ]
  },
  {
   "cell_type": "code",
   "execution_count": 66,
   "id": "0c65d5c7-7ae0-4ce3-a16a-e41bcdbd879d",
   "metadata": {},
   "outputs": [],
   "source": [
    "# Source Port: Fill null && obj -> int -- Replace with 0\n",
    "new_col = []\n",
    "for item in mix_df['Source Port'].values:\n",
    "    if (item == None):\n",
    "        new_col.append(0)\n",
    "    else:\n",
    "        new_col.append(int(item))\n",
    "mix_df['Source Port'] = new_col"
   ]
  },
  {
   "cell_type": "code",
   "execution_count": 68,
   "id": "21a2bb67-b8e6-4825-b8f8-05a6a7e12331",
   "metadata": {},
   "outputs": [
    {
     "name": "stdout",
     "output_type": "stream",
     "text": [
      "<class 'pandas.core.frame.DataFrame'>\n",
      "Index: 200616 entries, 0 to 95461\n",
      "Data columns (total 9 columns):\n",
      " #   Column            Non-Null Count   Dtype  \n",
      "---  ------            --------------   -----  \n",
      " 0   Timestamp         200616 non-null  float64\n",
      " 1   Source IP         200616 non-null  int64  \n",
      " 2   Destination IP    200616 non-null  int64  \n",
      " 3   Protocol          200616 non-null  int64  \n",
      " 4   Source Port       200616 non-null  int64  \n",
      " 5   Destination Port  199835 non-null  object \n",
      " 6   Packet Length     200446 non-null  object \n",
      " 7   TCP Flags         179529 non-null  object \n",
      " 8   Label             200616 non-null  int64  \n",
      "dtypes: float64(1), int64(5), object(3)\n",
      "memory usage: 15.3+ MB\n"
     ]
    }
   ],
   "source": [
    "mix_df.info()"
   ]
  },
  {
   "cell_type": "code",
   "execution_count": 69,
   "id": "c5748488-e8b8-43db-a97f-5beefa5a153f",
   "metadata": {},
   "outputs": [],
   "source": [
    "# Destination Port: Fill null && obj -> int\n",
    "new_col = []\n",
    "for item in mix_df['Destination Port'].values:\n",
    "    if (item == None):\n",
    "        new_col.append(0)\n",
    "    else:\n",
    "        new_col.append(int(item))\n",
    "mix_df['Destination Port'] = new_col"
   ]
  },
  {
   "cell_type": "code",
   "execution_count": 70,
   "id": "44f372b1-4a22-4d99-80ab-b55c5cba1242",
   "metadata": {},
   "outputs": [
    {
     "name": "stdout",
     "output_type": "stream",
     "text": [
      "<class 'pandas.core.frame.DataFrame'>\n",
      "Index: 200616 entries, 0 to 95461\n",
      "Data columns (total 9 columns):\n",
      " #   Column            Non-Null Count   Dtype  \n",
      "---  ------            --------------   -----  \n",
      " 0   Timestamp         200616 non-null  float64\n",
      " 1   Source IP         200616 non-null  int64  \n",
      " 2   Destination IP    200616 non-null  int64  \n",
      " 3   Protocol          200616 non-null  int64  \n",
      " 4   Source Port       200616 non-null  int64  \n",
      " 5   Destination Port  200616 non-null  int64  \n",
      " 6   Packet Length     200446 non-null  object \n",
      " 7   TCP Flags         179529 non-null  object \n",
      " 8   Label             200616 non-null  int64  \n",
      "dtypes: float64(1), int64(6), object(2)\n",
      "memory usage: 15.3+ MB\n"
     ]
    }
   ],
   "source": [
    "mix_df.info()"
   ]
  },
  {
   "cell_type": "code",
   "execution_count": 78,
   "id": "9d62a43d-d26c-4c84-ad43-78bea380b59f",
   "metadata": {},
   "outputs": [],
   "source": [
    "# Packet Length: Fill null && obj -> int\n",
    "new_col = []\n",
    "for item in mix_df['Packet Length'].values:\n",
    "    if (item == None):\n",
    "        new_col.append(0)\n",
    "    else:\n",
    "        new_col.append(int(item))\n",
    "mix_df['Packet Length'] = new_col"
   ]
  },
  {
   "cell_type": "code",
   "execution_count": 79,
   "id": "05694ce2-d70f-4f21-a262-b809ecaefc7b",
   "metadata": {},
   "outputs": [
    {
     "name": "stdout",
     "output_type": "stream",
     "text": [
      "<class 'pandas.core.frame.DataFrame'>\n",
      "Index: 200616 entries, 0 to 95461\n",
      "Data columns (total 9 columns):\n",
      " #   Column            Non-Null Count   Dtype  \n",
      "---  ------            --------------   -----  \n",
      " 0   Timestamp         200616 non-null  float64\n",
      " 1   Source IP         200616 non-null  int64  \n",
      " 2   Destination IP    200616 non-null  int64  \n",
      " 3   Protocol          200616 non-null  int64  \n",
      " 4   Source Port       200616 non-null  int64  \n",
      " 5   Destination Port  200616 non-null  int64  \n",
      " 6   Packet Length     200616 non-null  int64  \n",
      " 7   TCP Flags         179529 non-null  object \n",
      " 8   Label             200616 non-null  int64  \n",
      "dtypes: float64(1), int64(7), object(1)\n",
      "memory usage: 15.3+ MB\n"
     ]
    }
   ],
   "source": [
    "mix_df.info()"
   ]
  },
  {
   "cell_type": "code",
   "execution_count": 81,
   "id": "da81406f-5503-46e1-9bc8-c983d8cd6098",
   "metadata": {},
   "outputs": [],
   "source": [
    "new_col = []\n",
    "for item in mix_df['TCP Flags']:\n",
    "    try:\n",
    "        new_col.append(item.int_value)\n",
    "    except:\n",
    "        new_col.append(0)\n",
    "mix_df['TCP Flags'] = new_col"
   ]
  },
  {
   "cell_type": "code",
   "execution_count": 83,
   "id": "ddc5180e-b4a5-4115-be7f-373b22ec3b41",
   "metadata": {},
   "outputs": [
    {
     "name": "stdout",
     "output_type": "stream",
     "text": [
      "<class 'pandas.core.frame.DataFrame'>\n",
      "Index: 200616 entries, 0 to 95461\n",
      "Data columns (total 9 columns):\n",
      " #   Column            Non-Null Count   Dtype  \n",
      "---  ------            --------------   -----  \n",
      " 0   Timestamp         200616 non-null  float64\n",
      " 1   Source IP         200616 non-null  int64  \n",
      " 2   Destination IP    200616 non-null  int64  \n",
      " 3   Protocol          200616 non-null  int64  \n",
      " 4   Source Port       200616 non-null  int64  \n",
      " 5   Destination Port  200616 non-null  int64  \n",
      " 6   Packet Length     200616 non-null  int64  \n",
      " 7   TCP Flags         200616 non-null  int64  \n",
      " 8   Label             200616 non-null  int64  \n",
      "dtypes: float64(1), int64(8)\n",
      "memory usage: 15.3 MB\n"
     ]
    }
   ],
   "source": [
    "mix_df.info()"
   ]
  },
  {
   "cell_type": "code",
   "execution_count": 84,
   "id": "509abd26-5837-4f9c-a283-e26a5291398f",
   "metadata": {},
   "outputs": [
    {
     "data": {
      "text/html": [
       "<div>\n",
       "<style scoped>\n",
       "    .dataframe tbody tr th:only-of-type {\n",
       "        vertical-align: middle;\n",
       "    }\n",
       "\n",
       "    .dataframe tbody tr th {\n",
       "        vertical-align: top;\n",
       "    }\n",
       "\n",
       "    .dataframe thead th {\n",
       "        text-align: right;\n",
       "    }\n",
       "</style>\n",
       "<table border=\"1\" class=\"dataframe\">\n",
       "  <thead>\n",
       "    <tr style=\"text-align: right;\">\n",
       "      <th></th>\n",
       "      <th>Timestamp</th>\n",
       "      <th>Source IP</th>\n",
       "      <th>Destination IP</th>\n",
       "      <th>Protocol</th>\n",
       "      <th>Source Port</th>\n",
       "      <th>Destination Port</th>\n",
       "      <th>Packet Length</th>\n",
       "      <th>TCP Flags</th>\n",
       "      <th>Label</th>\n",
       "    </tr>\n",
       "  </thead>\n",
       "  <tbody>\n",
       "    <tr>\n",
       "      <th>0</th>\n",
       "      <td>0.000000</td>\n",
       "      <td>0</td>\n",
       "      <td>1</td>\n",
       "      <td>6</td>\n",
       "      <td>5228</td>\n",
       "      <td>58250</td>\n",
       "      <td>1280</td>\n",
       "      <td>18</td>\n",
       "      <td>0</td>\n",
       "    </tr>\n",
       "    <tr>\n",
       "      <th>1</th>\n",
       "      <td>0.000723</td>\n",
       "      <td>0</td>\n",
       "      <td>1</td>\n",
       "      <td>6</td>\n",
       "      <td>5228</td>\n",
       "      <td>58250</td>\n",
       "      <td>425</td>\n",
       "      <td>18</td>\n",
       "      <td>0</td>\n",
       "    </tr>\n",
       "    <tr>\n",
       "      <th>2</th>\n",
       "      <td>0.344932</td>\n",
       "      <td>0</td>\n",
       "      <td>1</td>\n",
       "      <td>6</td>\n",
       "      <td>5228</td>\n",
       "      <td>58250</td>\n",
       "      <td>425</td>\n",
       "      <td>18</td>\n",
       "      <td>0</td>\n",
       "    </tr>\n",
       "    <tr>\n",
       "      <th>3</th>\n",
       "      <td>1.576458</td>\n",
       "      <td>0</td>\n",
       "      <td>1</td>\n",
       "      <td>6</td>\n",
       "      <td>5228</td>\n",
       "      <td>58250</td>\n",
       "      <td>1280</td>\n",
       "      <td>18</td>\n",
       "      <td>0</td>\n",
       "    </tr>\n",
       "    <tr>\n",
       "      <th>4</th>\n",
       "      <td>3.485089</td>\n",
       "      <td>2</td>\n",
       "      <td>1</td>\n",
       "      <td>6</td>\n",
       "      <td>443</td>\n",
       "      <td>46528</td>\n",
       "      <td>134</td>\n",
       "      <td>18</td>\n",
       "      <td>0</td>\n",
       "    </tr>\n",
       "    <tr>\n",
       "      <th>...</th>\n",
       "      <td>...</td>\n",
       "      <td>...</td>\n",
       "      <td>...</td>\n",
       "      <td>...</td>\n",
       "      <td>...</td>\n",
       "      <td>...</td>\n",
       "      <td>...</td>\n",
       "      <td>...</td>\n",
       "      <td>...</td>\n",
       "    </tr>\n",
       "    <tr>\n",
       "      <th>95457</th>\n",
       "      <td>2587.553109</td>\n",
       "      <td>41</td>\n",
       "      <td>67</td>\n",
       "      <td>6</td>\n",
       "      <td>57696</td>\n",
       "      <td>443</td>\n",
       "      <td>325</td>\n",
       "      <td>18</td>\n",
       "      <td>0</td>\n",
       "    </tr>\n",
       "    <tr>\n",
       "      <th>95458</th>\n",
       "      <td>2587.553136</td>\n",
       "      <td>41</td>\n",
       "      <td>67</td>\n",
       "      <td>6</td>\n",
       "      <td>57696</td>\n",
       "      <td>443</td>\n",
       "      <td>57</td>\n",
       "      <td>18</td>\n",
       "      <td>0</td>\n",
       "    </tr>\n",
       "    <tr>\n",
       "      <th>95459</th>\n",
       "      <td>2587.556349</td>\n",
       "      <td>67</td>\n",
       "      <td>41</td>\n",
       "      <td>6</td>\n",
       "      <td>443</td>\n",
       "      <td>57696</td>\n",
       "      <td>40</td>\n",
       "      <td>10</td>\n",
       "      <td>0</td>\n",
       "    </tr>\n",
       "    <tr>\n",
       "      <th>95460</th>\n",
       "      <td>2587.556358</td>\n",
       "      <td>67</td>\n",
       "      <td>41</td>\n",
       "      <td>6</td>\n",
       "      <td>443</td>\n",
       "      <td>57696</td>\n",
       "      <td>40</td>\n",
       "      <td>10</td>\n",
       "      <td>0</td>\n",
       "    </tr>\n",
       "    <tr>\n",
       "      <th>95461</th>\n",
       "      <td>2587.556366</td>\n",
       "      <td>67</td>\n",
       "      <td>41</td>\n",
       "      <td>6</td>\n",
       "      <td>443</td>\n",
       "      <td>57696</td>\n",
       "      <td>40</td>\n",
       "      <td>10</td>\n",
       "      <td>0</td>\n",
       "    </tr>\n",
       "  </tbody>\n",
       "</table>\n",
       "<p>200616 rows × 9 columns</p>\n",
       "</div>"
      ],
      "text/plain": [
       "         Timestamp  Source IP  Destination IP  Protocol  Source Port  \\\n",
       "0         0.000000          0               1         6         5228   \n",
       "1         0.000723          0               1         6         5228   \n",
       "2         0.344932          0               1         6         5228   \n",
       "3         1.576458          0               1         6         5228   \n",
       "4         3.485089          2               1         6          443   \n",
       "...            ...        ...             ...       ...          ...   \n",
       "95457  2587.553109         41              67         6        57696   \n",
       "95458  2587.553136         41              67         6        57696   \n",
       "95459  2587.556349         67              41         6          443   \n",
       "95460  2587.556358         67              41         6          443   \n",
       "95461  2587.556366         67              41         6          443   \n",
       "\n",
       "       Destination Port  Packet Length  TCP Flags  Label  \n",
       "0                 58250           1280         18      0  \n",
       "1                 58250            425         18      0  \n",
       "2                 58250            425         18      0  \n",
       "3                 58250           1280         18      0  \n",
       "4                 46528            134         18      0  \n",
       "...                 ...            ...        ...    ...  \n",
       "95457               443            325         18      0  \n",
       "95458               443             57         18      0  \n",
       "95459             57696             40         10      0  \n",
       "95460             57696             40         10      0  \n",
       "95461             57696             40         10      0  \n",
       "\n",
       "[200616 rows x 9 columns]"
      ]
     },
     "execution_count": 84,
     "metadata": {},
     "output_type": "execute_result"
    }
   ],
   "source": [
    "mix_df"
   ]
  },
  {
   "cell_type": "code",
   "execution_count": 85,
   "id": "f432cb19-7592-449a-837f-01a8dd6058d5",
   "metadata": {},
   "outputs": [],
   "source": [
    "mix_df.to_csv('blended_packets.csv', index=False)"
   ]
  }
 ],
 "metadata": {
  "kernelspec": {
   "display_name": "Python 3 (ipykernel)",
   "language": "python",
   "name": "python3"
  },
  "language_info": {
   "codemirror_mode": {
    "name": "ipython",
    "version": 3
   },
   "file_extension": ".py",
   "mimetype": "text/x-python",
   "name": "python",
   "nbconvert_exporter": "python",
   "pygments_lexer": "ipython3",
   "version": "3.11.7"
  }
 },
 "nbformat": 4,
 "nbformat_minor": 5
}
